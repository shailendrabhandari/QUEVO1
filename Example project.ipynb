{
 "cells": [
  {
   "cell_type": "markdown",
   "id": "74834a90",
   "metadata": {},
   "source": []
  },
  {
   "cell_type": "markdown",
   "id": "b8ae65e3",
   "metadata": {},
   "source": [
    "# Quevo-1 - Example project"
   ]
  },
  {
   "cell_type": "markdown",
   "id": "8a9df381",
   "metadata": {},
   "source": [
    "This notebook shows how you may use the Quevo to find quantum circuits fittet to a 1D Von Neumann neigbourhood for cellular automata. This guide will go through the process of initialising the needed parameters, creating chromosomes generations and in the end simulationg them on the qiskit simulator to see the quantum results."
   ]
  },
  {
   "cell_type": "markdown",
   "id": "338e7913",
   "metadata": {},
   "source": [
    "First we import the Quevo library. __Note!__ You need Qiskit for the library to work."
   ]
  },
  {
   "cell_type": "code",
   "execution_count": 33,
   "id": "e442138e",
   "metadata": {},
   "outputs": [],
   "source": [
    "import numpy as np\n",
    "from Quevo import *\n",
    "from qiskit.visualization import circuit_drawer"
   ]
  },
  {
   "cell_type": "markdown",
   "id": "ee5469c3",
   "metadata": {},
   "source": [
    "Then we set up the evovlers parameters. \n",
    "- **gates**: The number of quantum gates per circuit.\n",
    "- **chromosomes**: The number of chromosomes or solutions you want in each generation.\n",
    "- **generation**: The number of generations you want to evolve before terminating.\n",
    "- **desired_chance_of_one**: A list of the eight probabilities for the eight CA initial states you want the circuit to generate. There are some example probability list commented. Remove the comment to test them!"
   ]
  },
  {
   "cell_type": "code",
   "execution_count": 34,
   "id": "8a2c2cc8",
   "metadata": {},
   "outputs": [],
   "source": [
    "gates = 10\n",
    "n_states = 8 \n",
    "chromosomes = 10\n",
    "generations = 20\n",
    "gate_types = ['cx', 'x', 'h', 'rxx', 'rzz', 'swap', 'z', 'y', 'toffoli']  # possible gates: # h, cx, x, y, z, swap, rzz, rxx, toffoli\n",
    "states = np.random.rand(n_states, 2**3)"
   ]
  },
  {
   "cell_type": "raw",
   "id": "307b6162",
   "metadata": {},
   "source": [
    "Next, initiallize the first generation firn the number of chromosomes and gates per chromosome. After that, populate it with randomly generated chromosomes with the create_initial_generation()-method and print the chromosome list."
   ]
  },
  {
   "cell_type": "code",
   "execution_count": 35,
   "id": "50f78fee",
   "metadata": {},
   "outputs": [
    {
     "name": "stdout",
     "output_type": "stream",
     "text": [
      "Chromosomes: \n",
      "[1, 2, 0, 1, 1, 1, 8, 0, 1, 0, 2, 0, 1, 2, 1, 6, 1, 2, 7, 0, 2, 8, 1, 1, 1, 2, 0, 6, 1, 2]\n",
      "[1, 1, 0, 4, 0, 1, 3, 2, 0, 0, 2, 0, 5, 2, 0, 1, 0, 2, 5, 2, 0, 3, 1, 0, 4, 2, 1, 3, 2, 1]\n",
      "[6, 0, 2, 7, 1, 2, 8, 2, 1, 0, 2, 0, 3, 0, 2, 0, 2, 1, 2, 2, 2, 7, 1, 2, 2, 1, 0, 1, 2, 2]\n",
      "[0, 2, 0, 1, 1, 0, 8, 2, 0, 2, 0, 0, 4, 0, 2, 4, 0, 2, 3, 1, 0, 5, 0, 1, 1, 0, 1, 0, 1, 0]\n",
      "[2, 0, 0, 6, 2, 0, 4, 1, 0, 6, 2, 1, 8, 2, 1, 7, 1, 1, 7, 0, 0, 1, 0, 1, 0, 1, 0, 3, 2, 0]\n",
      "[7, 2, 1, 2, 1, 0, 5, 2, 0, 3, 0, 1, 0, 1, 0, 4, 0, 2, 6, 0, 2, 3, 1, 2, 3, 1, 0, 7, 1, 0]\n",
      "[8, 1, 0, 4, 2, 1, 6, 2, 1, 2, 1, 1, 8, 0, 1, 4, 0, 1, 3, 2, 0, 6, 1, 1, 8, 2, 0, 8, 0, 0]\n",
      "[8, 0, 0, 7, 1, 1, 7, 1, 1, 4, 1, 0, 1, 2, 0, 3, 2, 1, 6, 0, 0, 4, 0, 2, 0, 0, 2, 2, 2, 0]\n",
      "[0, 1, 0, 7, 1, 2, 6, 2, 0, 8, 1, 0, 6, 2, 0, 7, 1, 2, 1, 0, 0, 0, 0, 2, 4, 0, 2, 7, 2, 2]\n",
      "[5, 0, 2, 2, 1, 2, 5, 1, 2, 3, 0, 2, 4, 1, 0, 0, 2, 1, 4, 0, 2, 8, 0, 1, 5, 1, 2, 8, 1, 2]\n",
      "\n",
      "\n"
     ]
    }
   ],
   "source": [
    "# Generate initial generation of chromosomes\n",
    "init_gen = Generation(chromosomes, gates)\n",
    "init_gen.create_initial_generation(gate_types)\n",
    "init_gen.print_chromosomes()\n",
    "\n"
   ]
  },
  {
   "cell_type": "markdown",
   "id": "b61d66b0",
   "metadata": {},
   "source": [
    "Then we check all the chromosomes fitness and print the best one found."
   ]
  },
  {
   "cell_type": "code",
   "execution_count": 36,
   "id": "46e173a1",
   "metadata": {},
   "outputs": [
    {
     "name": "stdout",
     "output_type": "stream",
     "text": [
      "MW_entanglement = 0.33883299342150397\n",
      "\n",
      "MW_entanglement = 0.33883299342150397\n",
      "\n",
      "MW_entanglement = 0.33883299342150397\n",
      "\n",
      "MW_entanglement = 0.33883299342150397\n",
      "\n",
      "MW_entanglement = 0.33883299342150397\n",
      "\n",
      "MW_entanglement = 0.33883299342150397\n",
      "\n",
      "MW_entanglement = 0.33883299342150397\n",
      "\n",
      "MW_entanglement = 0.33883299342150397\n",
      "\n",
      "MW_entanglement = 0.33883299342150397\n",
      "\n",
      "MW_entanglement = 0.33883299342150397\n",
      "\n",
      "Fitness for best chromosome: 0.33883299342150397\n",
      "Best generated circuit: \n",
      "[1, 2, 0, 1, 1, 1, 8, 0, 1, 0, 2, 0, 1, 2, 1, 6, 1, 2, 7, 0, 2, 8, 1, 1, 1, 2, 0, 6, 1, 2]\n",
      "\n",
      "\n"
     ]
    }
   ],
   "source": [
    "init_gen.run_generation(states)\n",
    "\n",
    "print(\"Fitness for best chromosome: \" + str(init_gen.get_best_fitness()) + \"\\n\"\n",
    "      + \"Best generated circuit: \\n\" + str(init_gen.get_best_chromosome()))\n",
    "print(\"\\n\")"
   ]
  },
  {
   "cell_type": "markdown",
   "id": "4a1b901e",
   "metadata": {},
   "source": [
    "Before we can start the evolution, we need to declare some container values fopr the best performing chromosome."
   ]
  },
  {
   "cell_type": "code",
   "execution_count": 37,
   "id": "0fdcf3d0",
   "metadata": {},
   "outputs": [],
   "source": [
    "# Final value placeholders\n",
    "current_chromosome = init_gen.get_best_chromosome()\n",
    "best_chromosome = current_chromosome\n",
    "final_fitness = init_gen.get_best_fitness()"
   ]
  },
  {
   "cell_type": "markdown",
   "id": "da9ed79e",
   "metadata": {},
   "source": [
    "Then we create a loop for the number of generations, and every time find the best chromosome in the generation to be a parent for the next generation."
   ]
  },
  {
   "cell_type": "code",
   "execution_count": 38,
   "id": "ea128268",
   "metadata": {},
   "outputs": [
    {
     "ename": "AttributeError",
     "evalue": "'Generation' object has no attribute 'create_mutated_generation'",
     "output_type": "error",
     "traceback": [
      "\u001b[0;31m---------------------------------------------------------------------------\u001b[0m",
      "\u001b[0;31mAttributeError\u001b[0m                            Traceback (most recent call last)",
      "\u001b[0;32m/tmp/ipykernel_4541/1683366023.py\u001b[0m in \u001b[0;36m<module>\u001b[0;34m\u001b[0m\n\u001b[1;32m      4\u001b[0m     \u001b[0;31m# Mutate next generation of chromosomes\u001b[0m\u001b[0;34m\u001b[0m\u001b[0;34m\u001b[0m\u001b[0;34m\u001b[0m\u001b[0m\n\u001b[1;32m      5\u001b[0m     \u001b[0mnext_gen\u001b[0m \u001b[0;34m=\u001b[0m \u001b[0mGeneration\u001b[0m\u001b[0;34m(\u001b[0m\u001b[0mchromosomes\u001b[0m\u001b[0;34m,\u001b[0m \u001b[0mgates\u001b[0m\u001b[0;34m)\u001b[0m\u001b[0;34m\u001b[0m\u001b[0;34m\u001b[0m\u001b[0m\n\u001b[0;32m----> 6\u001b[0;31m     \u001b[0mnext_gen\u001b[0m\u001b[0;34m.\u001b[0m\u001b[0mcreate_mutated_generation\u001b[0m\u001b[0;34m(\u001b[0m\u001b[0mcurrent_chromosome\u001b[0m\u001b[0;34m)\u001b[0m\u001b[0;34m\u001b[0m\u001b[0;34m\u001b[0m\u001b[0m\n\u001b[0m\u001b[1;32m      7\u001b[0m \u001b[0;34m\u001b[0m\u001b[0m\n\u001b[1;32m      8\u001b[0m     \u001b[0;31m# Check every Chromosome's fitness\u001b[0m\u001b[0;34m\u001b[0m\u001b[0;34m\u001b[0m\u001b[0;34m\u001b[0m\u001b[0m\n",
      "\u001b[0;31mAttributeError\u001b[0m: 'Generation' object has no attribute 'create_mutated_generation'"
     ]
    }
   ],
   "source": [
    "# Mutation loop\n",
    "for gen in range(0, generations):\n",
    "\n",
    "    # Mutate next generation of chromosomes\n",
    "    next_gen = Generation(chromosomes, gates)\n",
    "    next_gen.create_mutated_generation(current_chromosome)\n",
    "\n",
    "    # Check every Chromosome's fitness\n",
    "    next_gen.run_generation(states)\n",
    "\n",
    "    current_fitness = next_gen.get_best_fitness()\n",
    "    current_chromosome = next_gen.get_best_chromosome()\n",
    "    \n",
    "    # Print generation best result\n",
    "    print(\"Fitness for best mutated chromosome in mutation \" + str(gen + 1) + \": \"\n",
    "          + str(current_fitness) + \"\\n\"\n",
    "          + \"Best mutated chromosome:\\n\" + str(next_gen.get_best_chromosome()))\n",
    "    print(\"\\n\")\n",
    "\n",
    "    # Check if there is a new_list best chromosome\n",
    "\n",
    "    if final_fitness > current_fitness:\n",
    "        final_fitness = current_fitness\n",
    "        best_chromosome = current_chromosome\n",
    "        print(\"New best!\")\n",
    "        \n",
    "        print(\"\\n\")\n",
    "    if current_fitness < 0.01: # Stop if high enough fitness is reached\n",
    "        break\n",
    "    print(\"------------------------------------------------------------------------------\")\n"
   ]
  },
  {
   "cell_type": "markdown",
   "id": "f34ca9f6",
   "metadata": {},
   "source": [
    "Last, let's print the result of the best found ciurcuit and visualize it."
   ]
  },
  {
   "cell_type": "code",
   "execution_count": 42,
   "id": "595c520a",
   "metadata": {},
   "outputs": [
    {
     "name": "stdout",
     "output_type": "stream",
     "text": [
      "Best fitness found: 0.33883299342150397\n",
      "Best chromosome found: [1, 2, 0, 1, 1, 1, 8, 0, 1, 0, 2, 0, 1, 2, 1, 6, 1, 2, 7, 0, 2, 8, 1, 1, 1, 2, 0, 6, 1, 2]\n",
      "\n",
      "\n",
      "          ┌───┐┌───┐┌───┐          ┌─┐\n",
      "q_0: ─────┤ X ├┤ X ├┤ Y ├──■───────┤M├\n",
      "     ┌───┐└─┬─┘└─┬─┘├───┤┌─┴─┐┌───┐└╥┘\n",
      "q_1: ┤ X ├──■────┼──┤ Z ├┤ X ├┤ Z ├─╫─\n",
      "     ├───┤  │    │  ├───┤└─┬─┘├───┤ ║ \n",
      "q_2: ┤ X ├──■────■──┤ X ├──■──┤ X ├─╫─\n",
      "     └───┘          └───┘     └───┘ ║ \n",
      "c: 1/═══════════════════════════════╩═\n",
      "                                    0 \n"
     ]
    }
   ],
   "source": [
    "print(\"Best fitness found: \" + str(final_fitness))\n",
    "print(\"Best chromosome found: \" + str(best_chromosome))\n",
    "print(\"\\n\")\n",
    "circuit = Circuit(best_chromosome)\n",
    "\n",
    "\n",
    "\n",
    "circuit.generate_circuit()\n",
    "circuit.draw()\n"
   ]
  },
  {
   "cell_type": "code",
   "execution_count": null,
   "id": "e09575bf",
   "metadata": {},
   "outputs": [],
   "source": []
  }
 ],
 "metadata": {
  "kernelspec": {
   "display_name": "Python 3 (ipykernel)",
   "language": "python",
   "name": "python3"
  },
  "language_info": {
   "codemirror_mode": {
    "name": "ipython",
    "version": 3
   },
   "file_extension": ".py",
   "mimetype": "text/x-python",
   "name": "python",
   "nbconvert_exporter": "python",
   "pygments_lexer": "ipython3",
   "version": "3.9.6"
  }
 },
 "nbformat": 4,
 "nbformat_minor": 5
}
