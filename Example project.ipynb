{
 "cells": [
  {
   "cell_type": "markdown",
   "id": "b8ae65e3",
   "metadata": {},
   "source": [
    "# QUEVO1 - Example project"
   ]
  },
  {
   "cell_type": "markdown",
   "id": "8a9df381",
   "metadata": {},
   "source": [
    "This notebook shows how you can use QUEVO1 to find the highest entangled quantum circuit using an evolutionary algorithm. The goal is to optimize the M. Wallach entanglement measure for the circuit, which measures the degree of entanglement between the qubits.\n",
    "\n",
    "The guide will go through the process of initializing the necessary parameters, creating chromosome generations, and simulating them on the qiskit simulator to measure their entanglement with the Wallach entanglement measure. The evolutionary algorithm will then use this measure to evolve the chromosomes towards circuits with higher entanglement. The addition of the M. Wallach entanglement measure as a fitness metric allows the algorithm to search for quantum circuits with a specific structure that maximizes the degree of entanglement between the qubits."
   ]
  },
  {
   "cell_type": "markdown",
   "id": "338e7913",
   "metadata": {},
   "source": [
    "First we import the Quevo library. __Note!__ You need Qiskit for the library to work."
   ]
  },
  {
   "cell_type": "code",
   "execution_count": 1,
   "id": "e442138e",
   "metadata": {},
   "outputs": [],
   "source": [
    "import QUEVO"
   ]
  },
  {
   "cell_type": "markdown",
   "id": "ee5469c3",
   "metadata": {},
   "source": [
    "Then we set up the evovlers parameters. \n",
    "- **gates**: The number of quantum gates per circuit.\n",
    "- **chromosomes**: The number of chromosomes or solutions you want in each generation.\n",
    "- **generation**: The number of generations you want to evolve before terminating.\n",
    "- **target_entanglement**: The \"target entanglement\" in the MW (Meyer-Wallach) entanglement measure is the amount of entanglement that one would like to generate in a particular quantum state. In other words, the MW entanglement measure quantifies how close a given quantum state is to the \"desired\" entangled state. The MW entanglement measure is based on the concept of \"reference states,\" which are states that have a fixed amount of entanglement that is considered to be the \"desired\" entanglement for the system. The reference states depend on the number of qubits in the system and the level of entanglement that one wishes to achieve. For example, for a system of two qubits, the reference state with maximal entanglement is the Bell state (|00⟩ + |11⟩)/√2, while the reference state with zero entanglement is a separable state such as |00⟩ or |01⟩.The MW entanglement measure quantifies the deviation of a given quantum state from the reference state with the desired amount of entanglement. It is defined as the difference between the largest eigenvalue of the density matrix of the state and the expected maximum eigenvalue for the reference state. This measure is always non-negative and reaches its maximum value when the state is maximally entangled.!"
   ]
  },
  {
   "cell_type": "code",
   "execution_count": 2,
   "id": "8a2c2cc8",
   "metadata": {},
   "outputs": [],
   "source": [
    "gates = 5\n",
    "chromosomes = 20\n",
    "generations = 10\n",
    "gate_types = ['cx', 'x', 'h', 'rxx', 'rzz', 'swap', 'z', 'y', 'toffoli'] # possible gates: # h, cx, x, y, z, swap, rzz, rxx, toffoli\n",
    "target_entanglement = [0.999999]"
   ]
  },
  {
   "cell_type": "raw",
   "id": "307b6162",
   "metadata": {},
   "source": [
    "Next, initiallize the first generation firn the number of chromosomes and gates per chromosome. After that, populate it with randomly generated chromosomes with the create_initial_generation()-method and print the chromosome list."
   ]
  },
  {
   "cell_type": "code",
   "execution_count": 3,
   "id": "50f78fee",
   "metadata": {},
   "outputs": [
    {
     "name": "stdout",
     "output_type": "stream",
     "text": [
      "Initial Generation Parents:\n",
      "[7, 0, 0, 0, 0, 2, 4, 1, 2, 8, 0, 2, 0, 2, 0]\n",
      "[5, 0, 2, 6, 0, 1, 5, 1, 2, 4, 2, 0, 8, 1, 2]\n",
      "[7, 1, 1, 3, 0, 2, 4, 0, 2, 7, 1, 2, 0, 2, 1]\n",
      "[4, 1, 0, 8, 1, 2, 8, 2, 0, 2, 0, 1, 6, 0, 0]\n",
      "[6, 1, 2, 4, 2, 0, 1, 2, 0, 2, 0, 2, 6, 2, 1]\n",
      "[1, 1, 2, 0, 0, 2, 4, 1, 0, 6, 2, 2, 4, 1, 2]\n",
      "[6, 2, 1, 2, 2, 2, 4, 1, 0, 5, 2, 1, 7, 2, 2]\n",
      "[4, 2, 0, 0, 1, 0, 3, 2, 0, 2, 0, 0, 2, 2, 2]\n",
      "[8, 0, 1, 5, 2, 1, 5, 0, 2, 7, 2, 1, 5, 2, 0]\n",
      "[2, 2, 0, 7, 0, 0, 2, 2, 2, 4, 2, 1, 4, 1, 0]\n",
      "[4, 2, 0, 6, 0, 1, 7, 2, 2, 2, 0, 2, 2, 1, 0]\n",
      "[3, 2, 1, 1, 0, 1, 5, 1, 0, 8, 0, 1, 5, 2, 1]\n",
      "[5, 1, 0, 8, 0, 0, 8, 1, 1, 1, 2, 0, 4, 2, 0]\n",
      "[0, 2, 0, 6, 1, 1, 2, 0, 1, 6, 1, 1, 1, 1, 0]\n",
      "[8, 1, 2, 2, 2, 1, 7, 2, 2, 1, 2, 0, 3, 2, 0]\n",
      "[0, 2, 1, 1, 0, 2, 5, 2, 1, 5, 1, 0, 5, 2, 1]\n",
      "[7, 1, 0, 5, 0, 1, 6, 2, 0, 1, 0, 0, 0, 2, 1]\n",
      "[5, 2, 0, 3, 2, 0, 7, 1, 0, 1, 2, 2, 5, 0, 2]\n",
      "[1, 0, 1, 3, 0, 2, 3, 0, 1, 5, 0, 2, 8, 2, 1]\n",
      "[1, 0, 2, 6, 0, 2, 0, 1, 0, 3, 2, 1, 8, 0, 2]\n"
     ]
    }
   ],
   "source": [
    "# Generate initial generation of chromosomes\n",
    "init_gen = QUEVO.Generation(chromosomes, gates)\n",
    "init_gen.create_initial_generation(gate_types)"
   ]
  },
  {
   "cell_type": "markdown",
   "id": "b61d66b0",
   "metadata": {},
   "source": [
    "Then we check all the chromosomes fitness and print the best one found."
   ]
  },
  {
   "cell_type": "code",
   "execution_count": 4,
   "id": "46e173a1",
   "metadata": {},
   "outputs": [
    {
     "name": "stdout",
     "output_type": "stream",
     "text": [
      "Fitness for best chromosome: 0.49999899999999986\n",
      "Best chromosome: \n",
      "[4, 1, 0, 8, 1, 2, 8, 2, 0, 2, 0, 1, 6, 0, 0]\n",
      "\n",
      "\n"
     ]
    }
   ],
   "source": [
    "init_gen.run_generation(target_entanglement)\n",
    "\n",
    "print(\"Fitness for best chromosome: \" + str(init_gen.get_best_fitness()) + \"\\n\"\n",
    "      + \"Best chromosome: \\n\" + str(init_gen.get_best_chromosome()))\n",
    "print(\"\\n\")"
   ]
  },
  {
   "cell_type": "markdown",
   "id": "4a1b901e",
   "metadata": {},
   "source": [
    "Before we can start the evolution, we need to declare some container values fopr the best performing chromosome."
   ]
  },
  {
   "cell_type": "code",
   "execution_count": 5,
   "id": "0fdcf3d0",
   "metadata": {},
   "outputs": [],
   "source": [
    "# Final value placeholders\n",
    "current_chromosome = init_gen.get_best_chromosome()\n",
    "best_chromosome = current_chromosome\n",
    "final_fitness = init_gen.get_best_fitness()"
   ]
  },
  {
   "cell_type": "markdown",
   "id": "da9ed79e",
   "metadata": {},
   "source": [
    "Then we create a loop for the number of generations, and every time find the best chromosome in the generation to be a parent for the next generation."
   ]
  },
  {
   "cell_type": "code",
   "execution_count": 6,
   "id": "ea128268",
   "metadata": {},
   "outputs": [],
   "source": [
    "def run_evolution(number_of_runs, mutation_Prob=0.4):\n",
    "    \n",
    "    plot_list = []\n",
    "    \n",
    "    for i in range(0, number_of_runs):\n",
    "        \n",
    "        #print('Evolution number: ' + str(i+1))\n",
    "        init_gen = QUEVO.Generation(chromosomes, gates)\n",
    "        init_gen.create_initial_generation(gate_types)\n",
    "\n",
    "        init_gen.run_generation(target_entanglement) \n",
    "        # Final value placeholders\n",
    "        current_chromosome = init_gen.get_best_chromosome()\n",
    "        best_chromosome = current_chromosome\n",
    "        final_fitness = init_gen.get_best_fitness()\n",
    "\n",
    "        final_fitness_list = [final_fitness]\n",
    "\n",
    "\n",
    "      # Mutation loop\n",
    "\n",
    "        for gen in range(0, generations):\n",
    "            #print('Running gen nr.' + str(gen +1))\n",
    "            # Mutate next generation of chromosomes\n",
    "            init_gen.evolve_into_next_generation(mutation_rate) \n",
    "\n",
    "            # Check every Chromosome's fitness\n",
    "            init_gen.run_generation(target_entanglement)  \n",
    "\n",
    "            current_fitness = init_gen.get_best_fitness()\n",
    "            current_chromosome = init_gen.get_best_chromosome()\n",
    "            print((str(gen + 1)+\"\\n\")+str(current_fitness),end='')\n",
    "            \n",
    "\n",
    "\n",
    "            # Check if there is a new_list best chromosome\n",
    "\n",
    "            if final_fitness > abs(current_fitness):\n",
    "                final_fitness = current_fitness\n",
    "                best_chromosome = current_chromosome\n",
    "\n",
    "            final_fitness_list.append(current_fitness)\n",
    "            if current_fitness < 0.01:\n",
    "                break\n",
    "                \n",
    "    return final_fitness_list"
   ]
  },
  {
   "cell_type": "markdown",
   "id": "f34ca9f6",
   "metadata": {},
   "source": [
    "Last, let's print the result of the best found ciurcuit and visualize it."
   ]
  },
  {
   "cell_type": "code",
   "execution_count": 7,
   "id": "595c520a",
   "metadata": {},
   "outputs": [
    {
     "name": "stdout",
     "output_type": "stream",
     "text": [
      "Best ent. measured: 0.49999899999999986\n",
      "Best chromosome found: [4, 1, 0, 8, 1, 2, 8, 2, 0, 2, 0, 1, 6, 0, 0]\n",
      "\n",
      "\n",
      "                            ┌───┐┌───┐┌─┐\n",
      "q_0: ─■─────────────■────■──┤ H ├┤ Z ├┤M├\n",
      "      │ZZ(3.7198) ┌─┴─┐  │  └───┘└───┘└╥┘\n",
      "q_1: ─■───────────┤ X ├──■─────────────╫─\n",
      "                  └─┬─┘┌─┴─┐           ║ \n",
      "q_2: ───────────────■──┤ X ├───────────╫─\n",
      "                       └───┘           ║ \n",
      "c: 1/══════════════════════════════════╩═\n",
      "                                       0 \n"
     ]
    }
   ],
   "source": [
    "print(\"Best ent. measured: \" + str(final_fitness))\n",
    "print(\"Best chromosome found: \" + str(best_chromosome))\n",
    "print(\"\\n\")\n",
    "circuit = QUEVO.Circuit(best_chromosome)\n",
    "circuit.generate_circuit()\n",
    "circuit.draw()"
   ]
  }
 ],
 "metadata": {
  "kernelspec": {
   "display_name": "Python 3 (ipykernel)",
   "language": "python",
   "name": "python3"
  },
  "language_info": {
   "codemirror_mode": {
    "name": "ipython",
    "version": 3
   },
   "file_extension": ".py",
   "mimetype": "text/x-python",
   "name": "python",
   "nbconvert_exporter": "python",
   "pygments_lexer": "ipython3",
   "version": "3.9.6"
  }
 },
 "nbformat": 4,
 "nbformat_minor": 5
}
