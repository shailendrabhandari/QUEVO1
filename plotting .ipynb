{
 "cells": [
  {
   "cell_type": "code",
   "execution_count": 1,
   "id": "8ceddeb2",
   "metadata": {},
   "outputs": [],
   "source": [
    "import matplotlib.pyplot as plt \n",
    "import pandas as pd\n",
    "import csv \n",
    "import qutip\n",
    "import numpy as np\n",
    "import qutip\n",
    "from qiskit import QuantumCircuit\n",
    "import numpy as np\n",
    "import QUEVO\n",
    "from math import ceil\n",
    "import itertools"
   ]
  },
  {
   "cell_type": "code",
   "execution_count": 2,
   "id": "abf721dd",
   "metadata": {},
   "outputs": [],
   "source": [
    "mutation_prob = 5\n",
    "number_of_runs=50\n",
    "gates = 5 # 5,10,15,20\n",
    "chromosomes = 20\n",
    "generations = 200\n",
    "gate_types = ['cx', 'x', 'h', 'rxx', 'rzz', 'swap', 'z', 'y', 'toffoli']\n",
    "target_entanglement = [0.999999]\n"
   ]
  },
  {
   "cell_type": "code",
   "execution_count": 3,
   "id": "dc3ed85e",
   "metadata": {},
   "outputs": [
    {
     "ename": "SyntaxError",
     "evalue": "positional argument follows keyword argument (3528932608.py, line 62)",
     "output_type": "error",
     "traceback": [
      "\u001B[0;36m  File \u001B[0;32m\"/tmp/ipykernel_16123/3528932608.py\"\u001B[0;36m, line \u001B[0;32m62\u001B[0m\n\u001B[0;31m    mean_fitness, std_fitness, standard_error = run_evolution(number_of_runs=20, mutation_prob)\u001B[0m\n\u001B[0m                                                                                              ^\u001B[0m\n\u001B[0;31mSyntaxError\u001B[0m\u001B[0;31m:\u001B[0m positional argument follows keyword argument\n"
     ]
    }
   ],
   "source": [
    "import numpy as np\n",
    "import matplotlib.pyplot as plt\n",
    "\n",
    "def run_evolution(number_of_runs, mutation_prob):\n",
    "    \n",
    "    all_fitness_data = []\n",
    "    \n",
    "    for i in range(0, number_of_runs):\n",
    "        \n",
    "        init_gen = QUEVO.Generation(chromosomes, gates)\n",
    "        init_gen.create_initial_generation(gate_types)\n",
    "\n",
    "        init_gen.run_generation(target_entanglement)\n",
    "\n",
    "        current_chromosome = init_gen.get_best_chromosome()\n",
    "        best_chromosome = current_chromosome\n",
    "        final_fitness = init_gen.get_best_fitness()\n",
    "\n",
    "        final_fitness_list = [final_fitness]\n",
    "\n",
    "\n",
    "        for gen in range(0, generations):\n",
    "            init_gen.evolve_into_next_generation(mutation_prob) \n",
    "            init_gen.run_generation(target_entanglement) \n",
    "\n",
    "            current_fitness = init_gen.get_best_fitness()\n",
    "            current_chromosome = init_gen.get_best_chromosome()\n",
    "            print((str(gen + 1)+\"\\n\")+str(current_fitness),end='')\n",
    "\n",
    "            if final_fitness > abs(current_fitness):\n",
    "                final_fitness = current_fitness\n",
    "                best_chromosome = current_chromosome\n",
    "\n",
    "            final_fitness_list.append(current_fitness)\n",
    "            if current_fitness < 0.01:\n",
    "                break\n",
    "                \n",
    "        all_fitness_data.append(final_fitness_list)\n",
    "        print(\"Generation \", i+1, \" completed \")\n",
    "        \n",
    "    # calculate mean and standard deviation\n",
    "    mean_fitness = np.mean(all_fitness_data, axis=0)\n",
    "    std_fitness = np.std(all_fitness_data, axis=0)\n",
    "    standard_error = std_fitness / np.sqrt(number_of_runs)\n",
    "\n",
    "    # print the mean fitness, standard deviation, and standard error\n",
    "    mean_fitness = np.mean(all_fitness_data, axis=0)\n",
    "    std_dev_fitness = np.std(all_fitness_data, axis=0)\n",
    "    std_err_fitness = std_dev_fitness / np.sqrt(len(all_fitness_data))\n",
    "\n",
    "    print('Mean fitness: ', mean_fitness)\n",
    "    print('Standard deviation of fitness: ', std_dev_fitness)\n",
    "    print('Standard error of the mean fitness: ', std_err_fitness)\n",
    "    \n",
    "        # save the data to a CSV file\n",
    "    data = np.column_stack((mean_fitness, std_fitness, standard_error))\n",
    "    np.savetxt('fitness_data.csv', data, delimiter=',')\n",
    "    \n",
    "\n",
    "    return mean_fitness, std_fitness, standard_error\n",
    "\n",
    "mean_fitness, std_fitness, standard_error = run_evolution(number_of_runs=20, mutation_prob=5)\n"
   ]
  },
  {
   "cell_type": "code",
   "execution_count": null,
   "id": "98798357",
   "metadata": {},
   "outputs": [],
   "source": [
    "# plot the mean fitness with standard error\n",
    "plt.plot(mean_fitness)\n",
    "plt.fill_between(range(len(mean_fitness)), mean_fitness - standard_error, mean_fitness + standard_error, alpha=0.2)\n",
    "\n",
    "plt.xlabel(\"Generation\")\n",
    "plt.ylabel(\"MW-entanglement\")\n",
    "plt.title(\"Evolution of fitness over 150 generations ({} runs)\".format(number_of_runs))\n",
    "plt.savefig(\"fitness_plot_5gates.png\")\n",
    "plt.show()\n"
   ]
  },
  {
   "cell_type": "code",
   "execution_count": null,
   "id": "c4fd76a3",
   "metadata": {},
   "outputs": [],
   "source": []
  }
 ],
 "metadata": {
  "kernelspec": {
   "display_name": "Python 3 (ipykernel)",
   "language": "python",
   "name": "python3"
  },
  "language_info": {
   "codemirror_mode": {
    "name": "ipython",
    "version": 3
   },
   "file_extension": ".py",
   "mimetype": "text/x-python",
   "name": "python",
   "nbconvert_exporter": "python",
   "pygments_lexer": "ipython3",
   "version": "3.9.6"
  }
 },
 "nbformat": 4,
 "nbformat_minor": 5
}
